{
 "cells": [
  {
   "cell_type": "code",
   "execution_count": 1,
   "metadata": {},
   "outputs": [],
   "source": [
    "import hylite\n",
    "from hylite import io\n",
    "import cv2"
   ]
  },
  {
   "cell_type": "code",
   "execution_count": null,
   "metadata": {},
   "outputs": [
    {
     "ename": "EOFError",
     "evalue": "read() didn't return enough bytes",
     "output_type": "error",
     "traceback": [
      "\u001b[31m---------------------------------------------------------------------------\u001b[39m",
      "\u001b[31mEOFError\u001b[39m                                  Traceback (most recent call last)",
      "\u001b[36mCell\u001b[39m\u001b[36m \u001b[39m\u001b[32mIn[12]\u001b[39m\u001b[32m, line 1\u001b[39m\n\u001b[32m----> \u001b[39m\u001b[32m1\u001b[39m rgb = \u001b[43mio\u001b[49m\u001b[43m.\u001b[49m\u001b[43mload\u001b[49m\u001b[43m(\u001b[49m\u001b[33;43m'\u001b[39;49m\u001b[33;43m/Users/nova98/Documents/Nova/Spectrolysis/raw_data_car2car/Sisurock/20241211_Car2Car.shed/Car2Car_Table_10.hyc/b1_1_2.hyc/annotated.hyc/S17.hyc/RGB.hdr\u001b[39;49m\u001b[33;43m'\u001b[39;49m\u001b[43m)\u001b[49m\n\u001b[32m      2\u001b[39m fenix = io.load(\u001b[33m'\u001b[39m\u001b[33m/Users/nova98/Documents/Nova/Spectrolysis/raw_data_car2car/Sisurock/20241211_Car2Car.shed/Car2Car_Table_10.hyc/b1_1_2.hyc/annotated.hyc/S16.hyc/FENIX.hdr\u001b[39m\u001b[33m'\u001b[39m)\n\u001b[32m      3\u001b[39m mask = io.load(\u001b[33m'\u001b[39m\u001b[33m/Users/nova98/Documents/Nova/Spectrolysis/raw_data_car2car/Sisurock/20241211_Car2Car.shed/Car2Car_Table_10.hyc/b1_1_2.hyc/annotated.hyc/S16.hyc/mask.hdr\u001b[39m\u001b[33m'\u001b[39m)\n",
      "\u001b[36mFile \u001b[39m\u001b[32m~/Documents/Nova/FTIR_PSR_Viz/FTIR_PSR_Viz/.venv/lib/python3.12/site-packages/hylite/io/__init__.py:207\u001b[39m, in \u001b[36mload\u001b[39m\u001b[34m(path)\u001b[39m\n\u001b[32m    205\u001b[39m         out = loadWithGDAL(path)\n\u001b[32m    206\u001b[39m     \u001b[38;5;28;01melse\u001b[39;00m: \u001b[38;5;66;03m# no gdal, use SPy\u001b[39;00m\n\u001b[32m--> \u001b[39m\u001b[32m207\u001b[39m         out = \u001b[43mloadWithSPy\u001b[49m\u001b[43m(\u001b[49m\u001b[43mpath\u001b[49m\u001b[43m)\u001b[49m\n\u001b[32m    209\u001b[39m \u001b[38;5;66;03m# special case - loading spectral library; convert image to HyData\u001b[39;00m\n\u001b[32m    210\u001b[39m \u001b[38;5;28;01mif\u001b[39;00m \u001b[33m'\u001b[39m\u001b[33mlib\u001b[39m\u001b[33m'\u001b[39m \u001b[38;5;129;01min\u001b[39;00m ext:\n",
      "\u001b[36mFile \u001b[39m\u001b[32m~/Documents/Nova/FTIR_PSR_Viz/FTIR_PSR_Viz/.venv/lib/python3.12/site-packages/hylite/io/images.py:99\u001b[39m, in \u001b[36mloadWithSPy\u001b[39m\u001b[34m(path, dtype, mask_zero)\u001b[39m\n\u001b[32m     96\u001b[39m \u001b[38;5;28;01mexcept\u001b[39;00m:\n\u001b[32m     97\u001b[39m     img = spectral.open_image(header) \u001b[38;5;66;03m# load unknown image type\u001b[39;00m\n\u001b[32m---> \u001b[39m\u001b[32m99\u001b[39m data = np.transpose( np.array(\u001b[43mimg\u001b[49m\u001b[43m.\u001b[49m\u001b[43mload\u001b[49m\u001b[43m(\u001b[49m\u001b[43m)\u001b[49m), (\u001b[32m1\u001b[39m,\u001b[32m0\u001b[39m,\u001b[32m2\u001b[39m) )\n\u001b[32m    100\u001b[39m \u001b[38;5;28;01mif\u001b[39;00m (data.dtype == np.float32) \u001b[38;5;129;01mor\u001b[39;00m (data.dtype == np.float64):\n\u001b[32m    101\u001b[39m     \u001b[38;5;66;03m# Spy still divides float values by scale factor. We don't want it to, so undo this.\u001b[39;00m\n\u001b[32m    102\u001b[39m     data *= img.scale_factor\n",
      "\u001b[36mFile \u001b[39m\u001b[32m~/Documents/Nova/FTIR_PSR_Viz/FTIR_PSR_Viz/.venv/lib/python3.12/site-packages/spectral/io/spyfile.py:209\u001b[39m, in \u001b[36mSpyFile.load\u001b[39m\u001b[34m(self, **kwargs)\u001b[39m\n\u001b[32m    207\u001b[39m data = array.array(typecode(\u001b[33m'\u001b[39m\u001b[33mb\u001b[39m\u001b[33m'\u001b[39m))\n\u001b[32m    208\u001b[39m \u001b[38;5;28mself\u001b[39m.fid.seek(\u001b[38;5;28mself\u001b[39m.offset)\n\u001b[32m--> \u001b[39m\u001b[32m209\u001b[39m \u001b[43mdata\u001b[49m\u001b[43m.\u001b[49m\u001b[43mfromfile\u001b[49m\u001b[43m(\u001b[49m\u001b[38;5;28;43mself\u001b[39;49m\u001b[43m.\u001b[49m\u001b[43mfid\u001b[49m\u001b[43m,\u001b[49m\u001b[43m \u001b[49m\u001b[38;5;28;43mself\u001b[39;49m\u001b[43m.\u001b[49m\u001b[43mnrows\u001b[49m\u001b[43m \u001b[49m\u001b[43m*\u001b[49m\u001b[43m \u001b[49m\u001b[38;5;28;43mself\u001b[39;49m\u001b[43m.\u001b[49m\u001b[43mncols\u001b[49m\u001b[43m \u001b[49m\u001b[43m*\u001b[49m\n\u001b[32m    210\u001b[39m \u001b[43m              \u001b[49m\u001b[38;5;28;43mself\u001b[39;49m\u001b[43m.\u001b[49m\u001b[43mnbands\u001b[49m\u001b[43m \u001b[49m\u001b[43m*\u001b[49m\u001b[43m \u001b[49m\u001b[38;5;28;43mself\u001b[39;49m\u001b[43m.\u001b[49m\u001b[43msample_size\u001b[49m\u001b[43m)\u001b[49m\n\u001b[32m    211\u001b[39m npArray = np.frombuffer(tobytes(data), dtype=\u001b[38;5;28mself\u001b[39m.dtype)\n\u001b[32m    212\u001b[39m \u001b[38;5;28;01mif\u001b[39;00m \u001b[38;5;28mself\u001b[39m.interleave == spy.BIL:\n",
      "\u001b[31mEOFError\u001b[39m: read() didn't return enough bytes"
     ]
    }
   ],
   "source": [
    "# rgb = io.load('/Users/nova98/Documents/Nova/Spectrolysis/raw_data_car2car/Sisurock/20241211_Car2Car.shed/Car2Car_Table_10.hyc/b1_1_2.hyc/annotated.hyc/S17.hyc/RGB.hdr')\n",
    "fenix = io.load('/Users/nova98/Documents/Nova/Spectrolysis/raw_data_car2car/Sisurock/20241211_Car2Car.shed/Car2Car_Table_10.hyc/b1_1_2.hyc/annotated.hyc/S16.hyc/FENIX.hdr')\n",
    "mask = io.load('/Users/nova98/Documents/Nova/Spectrolysis/raw_data_car2car/Sisurock/20241211_Car2Car.shed/Car2Car_Table_10.hyc/b1_1_2.hyc/annotated.hyc/S16.hyc/mask.hdr')\n",
    "# rgb_image = rgb.data.astype('uint8')\n",
    "mask.quick_plot()"
   ]
  },
  {
   "cell_type": "code",
   "execution_count": 10,
   "metadata": {},
   "outputs": [
    {
     "data": {
      "text/plain": [
       "(146, 104, 450)"
      ]
     },
     "execution_count": 10,
     "metadata": {},
     "output_type": "execute_result"
    }
   ],
   "source": [
    "fenix.data.shape"
   ]
  },
  {
   "cell_type": "code",
   "execution_count": 11,
   "metadata": {},
   "outputs": [
    {
     "data": {
      "text/plain": [
       "(146, 104, 1)"
      ]
     },
     "execution_count": 11,
     "metadata": {},
     "output_type": "execute_result"
    }
   ],
   "source": [
    "mask.data.shape"
   ]
  }
 ],
 "metadata": {
  "kernelspec": {
   "display_name": ".venv",
   "language": "python",
   "name": "python3"
  },
  "language_info": {
   "codemirror_mode": {
    "name": "ipython",
    "version": 3
   },
   "file_extension": ".py",
   "mimetype": "text/x-python",
   "name": "python",
   "nbconvert_exporter": "python",
   "pygments_lexer": "ipython3",
   "version": "3.12.8"
  }
 },
 "nbformat": 4,
 "nbformat_minor": 2
}
